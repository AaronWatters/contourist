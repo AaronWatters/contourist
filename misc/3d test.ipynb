{
 "cells": [
  {
   "cell_type": "code",
   "execution_count": 1,
   "metadata": {
    "collapsed": true
   },
   "outputs": [],
   "source": [
    "# allow notebook to run without install\n",
    "import sys\n",
    "if \"..\" not in sys.path:\n",
    "    sys.path.append(\"..\")"
   ]
  },
  {
   "cell_type": "code",
   "execution_count": 2,
   "metadata": {
    "collapsed": false
   },
   "outputs": [],
   "source": [
    "from contourist import tetrahedral"
   ]
  },
  {
   "cell_type": "code",
   "execution_count": 3,
   "metadata": {
    "collapsed": false
   },
   "outputs": [],
   "source": [
    "def f(x,y,z):\n",
    "    if x==2 and y==2 and z==2:\n",
    "        return 1.0\n",
    "    return 0\n",
    "G = tetrahedral.Grid3DContour(3,3,3,f, 0.5, [[(0,0,0), (2,2,2)]])"
   ]
  },
  {
   "cell_type": "code",
   "execution_count": 4,
   "metadata": {
    "collapsed": false
   },
   "outputs": [
    {
     "name": "stdout",
     "output_type": "stream",
     "text": [
      "initial triangle frozenset([8, 13, 7])\n",
      "    reversing (8, 10, 13)\n",
      "    reversing (11, 12, 7)\n",
      "    reversing (0, 3, 13)\n",
      "    reversing (8, 10, 2)\n",
      "    reversing (0, 3, 11)\n",
      "    reversing (12, 2, 4)\n",
      "    reversing (3, 13, 7)\n",
      "    reversing (12, 11, 4)\n",
      "    reversing (0, 9, 1)\n",
      "    reversing (0, 11, 5)\n",
      "    reversing (1, 4, 6)\n",
      "    reversing (1, 4, 5)\n",
      "    reversing (9, 10, 1)\n"
     ]
    }
   ],
   "source": [
    "(vertices, triangles) = G.get_points_and_triangles()"
   ]
  },
  {
   "cell_type": "code",
   "execution_count": 5,
   "metadata": {
    "collapsed": false
   },
   "outputs": [
    {
     "name": "stdout",
     "output_type": "stream",
     "text": [
      "[ 17 , 17 , 17 ],\n",
      "[ 13 , 13 , 17 ],\n",
      "[ 9 , 9 , 9 ],\n",
      "[ 17 , 17 , 13 ],\n",
      "[ 9 , 13 , 13 ],\n",
      "[ 13 , 17 , 17 ],\n",
      "[ 9 , 9 , 13 ],\n",
      "[ 13 , 13 , 9 ],\n",
      "[ 13 , 9 , 9 ],\n",
      "[ 17 , 13 , 17 ],\n",
      "[ 13 , 9 , 13 ],\n",
      "[ 13 , 17 , 13 ],\n",
      "[ 9 , 13 , 9 ],\n",
      "[ 17 , 13 , 13 ],\n"
     ]
    }
   ],
   "source": [
    "sv = set()\n",
    "for v in vertices:\n",
    "    v2 = (x,y,z) = tuple(map(int, v*8 - 3))\n",
    "    if v2 in sv:\n",
    "        print \"duplicate\". v2\n",
    "    sv.add(v2)\n",
    "    print \"[\", x, \",\", y, \",\", z, \"],\"\n"
   ]
  },
  {
   "cell_type": "code",
   "execution_count": 6,
   "metadata": {
    "collapsed": false
   },
   "outputs": [
    {
     "name": "stdout",
     "output_type": "stream",
     "text": [
      "[ 4 , 11 , 12 ],\n",
      "[ 2 , 12 , 7 ],\n",
      "[ 4 , 2 , 12 ],\n",
      "[ 7 , 13 , 8 ],\n",
      "[ 8 , 2 , 7 ],\n",
      "[ 0 , 1 , 5 ],\n",
      "[ 5 , 11 , 0 ],\n",
      "[ 6 , 4 , 1 ],\n",
      "[ 1 , 9 , 0 ],\n",
      "[ 1 , 10 , 6 ],\n",
      "[ 0 , 9 , 13 ],\n",
      "[ 9 , 10 , 13 ],\n",
      "[ 1 , 10 , 9 ],\n",
      "[ 5 , 4 , 1 ],\n",
      "[ 2 , 4 , 6 ],\n",
      "[ 11 , 4 , 5 ],\n",
      "[ 10 , 2 , 6 ],\n",
      "[ 13 , 10 , 8 ],\n",
      "[ 2 , 10 , 8 ],\n",
      "[ 7 , 12 , 11 ],\n"
     ]
    }
   ],
   "source": [
    "for s in triangles:\n",
    "    (x, y, z) = s\n",
    "    if not 3 in s:\n",
    "        print \"[\", x, \",\", y, \",\", z, \"],\""
   ]
  },
  {
   "cell_type": "code",
   "execution_count": 7,
   "metadata": {
    "collapsed": false
   },
   "outputs": [
    {
     "name": "stdout",
     "output_type": "stream",
     "text": [
      "removing frozenset([160, 153, 105])\n",
      "removing frozenset([161, 147, 21])\n",
      "removing frozenset([17, 124, 101])\n",
      "removing frozenset([160, 105, 99])\n",
      "removing frozenset([130, 142, 86])\n",
      "removing frozenset([99, 19, 142])\n",
      "removing frozenset([64, 156, 158])\n",
      "removing frozenset([123, 130, 131])\n",
      "removing frozenset([50, 115, 52])\n",
      "removing frozenset([83, 12, 157])\n",
      "removing frozenset([12, 157, 127])\n",
      "removing frozenset([9, 156, 158])\n",
      "removing frozenset([40, 56, 66])\n",
      "removing frozenset([43, 68, 103])\n",
      "removing frozenset([80, 43, 124])\n",
      "removing frozenset([43, 124, 103])\n",
      "removing frozenset([160, 153, 147])\n",
      "removing frozenset([42, 78, 79])\n",
      "removing frozenset([160, 19, 21])\n",
      "removing frozenset([73, 50, 115])\n",
      "removing frozenset([16, 131, 109])\n",
      "removing frozenset([160, 99, 19])\n",
      "removing frozenset([16, 109, 134])\n",
      "removing frozenset([17, 124, 25])\n",
      "removing frozenset([24, 4, 86])\n",
      "removing frozenset([25, 123, 103])\n",
      "removing frozenset([136, 60, 39])\n",
      "removing frozenset([9, 106, 158])\n",
      "removing frozenset([80, 116, 101])\n",
      "removing frozenset([146, 42, 78])\n",
      "removing frozenset([16, 130, 86])\n",
      "removing frozenset([24, 4, 134])\n",
      "removing frozenset([80, 124, 101])\n",
      "removing frozenset([64, 84, 158])\n",
      "removing frozenset([34, 14, 39])\n",
      "removing frozenset([57, 140, 78])\n",
      "removing frozenset([19, 68, 21])\n",
      "removing frozenset([1, 131, 109])\n",
      "removing frozenset([73, 115, 6])\n",
      "removing frozenset([9, 156, 118])\n",
      "removing frozenset([136, 154, 34])\n",
      "removing frozenset([115, 126, 6])\n",
      "removing frozenset([17, 162, 25])\n",
      "removing frozenset([24, 16, 86])\n",
      "removing frozenset([0, 157, 127])\n",
      "removing frozenset([154, 34, 7])\n",
      "removing frozenset([160, 147, 21])\n",
      "removing frozenset([32, 17, 101])\n",
      "removing frozenset([8, 0, 157])\n",
      "removing frozenset([25, 124, 103])\n",
      "removing frozenset([56, 66, 31])\n",
      "removing frozenset([136, 154, 111])\n",
      "removing frozenset([40, 66, 20])\n",
      "removing frozenset([66, 63, 31])\n",
      "removing frozenset([153, 105, 55])\n",
      "removing frozenset([146, 10, 42])\n",
      "removing frozenset([64, 156, 47])\n",
      "removing frozenset([1, 109, 134])\n",
      "removing frozenset([24, 16, 134])\n",
      "removing frozenset([16, 130, 131])\n",
      "removing frozenset([80, 43, 151])\n",
      "removing frozenset([99, 105, 155])\n",
      "removing frozenset([57, 146, 78])\n",
      "removing frozenset([136, 34, 39])\n",
      "removing frozenset([57, 146, 77])\n",
      "removing frozenset([153, 147, 161])\n",
      "initial triangle frozenset([145, 27, 49])\n",
      "    reversing (41, 85, 119)\n",
      "    reversing (33, 155, 38)\n",
      "    reversing (33, 27, 155)\n",
      "    reversing (145, 27, 4)\n",
      "    reversing (120, 90, 38)\n",
      "    reversing (72, 4, 134)\n",
      "    reversing (140, 85, 38)\n",
      "    reversing (89, 98, 97)\n",
      "    reversing (48, 112, 66)\n",
      "    reversing (1, 149, 22)\n",
      "    reversing (1, 131, 70)\n",
      "    reversing (49, 99, 108)\n",
      "    reversing (42, 28, 10)\n",
      "    reversing (148, 22, 63)\n",
      "    reversing (145, 86, 49)\n",
      "    reversing (132, 20, 121)\n",
      "    reversing (48, 66, 63)\n",
      "    reversing (97, 132, 119)\n",
      "    reversing (89, 98, 102)\n",
      "    reversing (40, 121, 20)\n",
      "    reversing (120, 155, 55)\n",
      "    reversing (119, 85, 79)\n",
      "    reversing (1, 45, 23)\n",
      "    reversing (120, 52, 110)\n",
      "    reversing (89, 119, 79)\n",
      "    reversing (18, 90, 38)\n",
      "    reversing (57, 18, 77)\n",
      "    reversing (85, 78, 79)\n",
      "    reversing (2, 148, 63)\n",
      "    reversing (148, 22, 23)\n",
      "    reversing (88, 133, 71)\n",
      "    reversing (97, 132, 121)\n",
      "    reversing (88, 115, 126)\n",
      "    reversing (122, 63, 31)\n",
      "    reversing (153, 51, 133)\n",
      "    reversing (32, 162, 59)\n",
      "    reversing (13, 118, 23)\n",
      "    reversing (59, 36, 47)\n",
      "    reversing (144, 32, 37)\n",
      "    reversing (97, 98, 121)\n",
      "    reversing (88, 161, 51)\n",
      "    reversing (138, 123, 103)\n",
      "    reversing (133, 110, 55)\n",
      "    reversing (99, 155, 108)\n",
      "    reversing (45, 70, 125)\n",
      "    reversing (152, 18, 77)\n",
      "    reversing (144, 82, 35)\n",
      "    reversing (144, 35, 37)\n",
      "    reversing (1, 22, 23)\n",
      "    reversing (90, 67, 52)\n",
      "    reversing (35, 117, 37)\n",
      "    reversing (89, 42, 79)\n",
      "    reversing (138, 19, 142)\n",
      "    reversing (93, 134, 149)\n",
      "    reversing (81, 123, 25)\n",
      "    reversing (18, 140, 38)\n",
      "    reversing (148, 118, 143)\n",
      "    reversing (153, 51, 161)\n",
      "    reversing (113, 82, 29)\n",
      "    reversing (3, 126, 46)\n",
      "    reversing (133, 110, 71)\n",
      "    reversing (1, 149, 134)\n",
      "    reversing (132, 4, 119)\n",
      "    reversing (41, 27, 85)\n",
      "    reversing (36, 45, 125)\n",
      "    reversing (72, 20, 93)\n",
      "    reversing (67, 52, 69)\n",
      "    reversing (81, 131, 70)\n",
      "    reversing (120, 90, 52)\n",
      "    reversing (32, 83, 37)\n",
      "    reversing (81, 162, 125)\n",
      "    reversing (64, 82, 47)\n",
      "    reversing (32, 137, 83)\n",
      "    reversing (161, 75, 135)\n",
      "    reversing (36, 156, 13)\n",
      "    reversing (12, 117, 54)\n",
      "    reversing (143, 118, 87)\n",
      "    reversing (144, 59, 47)\n",
      "    reversing (75, 46, 7)\n",
      "    reversing (96, 116, 101)\n",
      "    reversing (83, 117, 37)\n",
      "    reversing (64, 113, 84)\n",
      "    reversing (146, 76, 141)\n",
      "    reversing (137, 91, 101)\n",
      "    reversing (32, 17, 162)\n",
      "    reversing (161, 3, 46)\n",
      "    reversing (161, 26, 135)\n",
      "    reversing (65, 26, 135)\n",
      "    reversing (96, 91, 53)\n",
      "    reversing (114, 91, 53)\n",
      "    reversing (129, 100, 46)\n",
      "    reversing (65, 26, 21)\n",
      "    reversing (139, 44, 126)\n",
      "    reversing (107, 61, 135)\n",
      "    reversing (129, 139, 126)\n",
      "    reversing (137, 91, 83)\n",
      "    reversing (82, 35, 29)\n",
      "    reversing (96, 53, 159)\n",
      "    reversing (5, 62, 95)\n",
      "    reversing (154, 100, 150)\n",
      "    reversing (104, 107, 94)\n",
      "    reversing (128, 35, 29)\n",
      "    reversing (75, 107, 7)\n",
      "    reversing (8, 53, 159)\n",
      "    reversing (154, 150, 111)\n",
      "    reversing (104, 116, 61)\n",
      "    reversing (65, 43, 68)\n",
      "    reversing (92, 129, 100)\n",
      "    reversing (100, 92, 150)\n",
      "    reversing (9, 106, 87)\n",
      "    reversing (15, 14, 95)\n",
      "    reversing (104, 94, 14)\n",
      "    reversing (104, 116, 159)\n",
      "    reversing (65, 68, 21)\n",
      "    reversing (8, 104, 5)\n",
      "    reversing (8, 157, 53)\n",
      "    reversing (34, 107, 94)\n",
      "    reversing (104, 5, 14)\n",
      "    reversing (15, 60, 39)\n",
      "    reversing (8, 11, 62)\n",
      "    reversing (74, 106, 158)\n",
      "    reversing (136, 58, 60)\n"
     ]
    }
   ],
   "source": [
    "from numpy.linalg import norm\n",
    "def sphere(x,y,z):\n",
    "    return norm([x-1,y-1,z-1])\n",
    "G = tetrahedral.Grid3DContour(5,5,5,sphere, 3.0, [[(0,0,0), (5,5,5)]])\n",
    "(vertices, triangles) = G.get_points_and_triangles()"
   ]
  },
  {
   "cell_type": "code",
   "execution_count": null,
   "metadata": {
    "collapsed": false
   },
   "outputs": [],
   "source": [
    "for v in vertices:\n",
    "    print (8*v).tolist(), \",\""
   ]
  },
  {
   "cell_type": "code",
   "execution_count": null,
   "metadata": {
    "collapsed": false
   },
   "outputs": [],
   "source": [
    "for t in triangles:\n",
    "    print list(t), \",\""
   ]
  },
  {
   "cell_type": "code",
   "execution_count": null,
   "metadata": {
    "collapsed": false
   },
   "outputs": [],
   "source": [
    "from numpy.linalg import norm\n",
    "def xyz(x,y,z):\n",
    "    return x * y * z\n",
    "G = tetrahedral.Grid3DContour(5,5,5,xyz, 5.0, [[(0,0,0), (5,5,5)]], False)\n",
    "(vertices, triangles) = G.get_points_and_triangles()"
   ]
  },
  {
   "cell_type": "code",
   "execution_count": null,
   "metadata": {
    "collapsed": false
   },
   "outputs": [],
   "source": [
    "for v in vertices:\n",
    "    print (v*5).tolist(), \",\""
   ]
  },
  {
   "cell_type": "code",
   "execution_count": null,
   "metadata": {
    "collapsed": false
   },
   "outputs": [],
   "source": [
    "order = {}\n",
    "for s in triangles:\n",
    "    ts = sorted(s)\n",
    "    [a, b, c] = ts\n",
    "    if order.get(a) == b:\n",
    "        ts = list(reversed(ts))\n",
    "    print ts, \",\"\n",
    "    [a, b, c] = ts\n",
    "    order[a] = b\n",
    "    order[b] = c\n",
    "    order[c] = a"
   ]
  },
  {
   "cell_type": "code",
   "execution_count": null,
   "metadata": {
    "collapsed": false
   },
   "outputs": [],
   "source": [
    "for (x,y,z) in vertices:\n",
    "    print x*y*z\n",
    "    "
   ]
  },
  {
   "cell_type": "code",
   "execution_count": null,
   "metadata": {
    "collapsed": false
   },
   "outputs": [],
   "source": [
    "reload(tetrahedral)"
   ]
  },
  {
   "cell_type": "code",
   "execution_count": null,
   "metadata": {
    "collapsed": false
   },
   "outputs": [],
   "source": [
    "G.linear_interpolate"
   ]
  },
  {
   "cell_type": "code",
   "execution_count": null,
   "metadata": {
    "collapsed": false
   },
   "outputs": [],
   "source": [
    "vertices[105]"
   ]
  },
  {
   "cell_type": "code",
   "execution_count": 1,
   "metadata": {
    "collapsed": false
   },
   "outputs": [
    {
     "name": "stdout",
     "output_type": "stream",
     "text": [
      "<type 'frozenset'>\n"
     ]
    },
    {
     "data": {
      "text/plain": [
       "True"
      ]
     },
     "execution_count": 1,
     "metadata": {},
     "output_type": "execute_result"
    }
   ],
   "source": [
    "f = frozenset(range(10))\n",
    "print type(f)\n",
    "type(f) is frozenset"
   ]
  },
  {
   "cell_type": "code",
   "execution_count": null,
   "metadata": {
    "collapsed": true
   },
   "outputs": [],
   "source": []
  }
 ],
 "metadata": {
  "kernelspec": {
   "display_name": "Python 2",
   "language": "python",
   "name": "python2"
  },
  "language_info": {
   "codemirror_mode": {
    "name": "ipython",
    "version": 2
   },
   "file_extension": ".py",
   "mimetype": "text/x-python",
   "name": "python",
   "nbconvert_exporter": "python",
   "pygments_lexer": "ipython2",
   "version": "2.7.11"
  },
  "widgets": {
   "state": {},
   "version": "1.1.1"
  }
 },
 "nbformat": 4,
 "nbformat_minor": 0
}
